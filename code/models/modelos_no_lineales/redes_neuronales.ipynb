{
 "cells": [
  {
   "cell_type": "markdown",
   "metadata": {},
   "source": [
    "#### Entrenamiento y Validación Secuencial de Red Neuronal (Local)\n",
    "- **Carga y preprocesamiento de datos:** Lectura del CSV, codificación de variables y escalado.\n",
    "- **Arquitectura y entrenamiento:** Definición de la red con Keras y entrenamiento inicial.\n",
    "- **Validación secuencial partido a partido:** Predicción de cada partido de la temporada final y actualización del conjunto de entrenamiento.\n",
    "- **Cálculo de métricas y matriz de confusión:** Evaluación final del modelo e interpretación de resultados."
   ]
  },
  {
   "cell_type": "code",
   "execution_count": 8,
   "metadata": {},
   "outputs": [],
   "source": [
    "import pandas as pd\n",
    "import numpy as np\n",
    "from sklearn.preprocessing import LabelEncoder, StandardScaler\n",
    "from sklearn.metrics import accuracy_score, precision_score, recall_score, f1_score, confusion_matrix, classification_report\n",
    "import matplotlib.pyplot as plt\n",
    "from tensorflow.keras.models import Sequential\n",
    "from tensorflow.keras.layers import Dense, Dropout\n",
    "from tensorflow.keras.utils import to_categorical\n",
    "import os\n",
    "os.environ['TF_CPP_MIN_LOG_LEVEL'] = '2'"
   ]
  },
  {
   "cell_type": "code",
   "execution_count": 9,
   "metadata": {},
   "outputs": [],
   "source": [
    "# Cargar datos\n",
    "file_path = \"../../datasets/datasets_equipos/ath_bilbao.csv\"\n",
    "df = pd.read_csv(file_path)\n",
    "\n",
    "# Quitar columnas que no aportan\n",
    "df = df.drop(columns=[\"season\", \"date\", \"team\"])\n",
    "\n",
    "# Codificar rival_team\n",
    "label_encoder = LabelEncoder()\n",
    "df[\"rival_team\"] = label_encoder.fit_transform(df[\"rival_team\"])\n",
    "\n",
    "# Separar X e y\n",
    "X = df.drop(columns=[\"goals_team\", \"goals_rival\", \"result\"])\n",
    "y = df[\"result\"]\n",
    "\n",
    "# Mapear -1, 0, 1 a 0, 1, 2\n",
    "label_map = {-1: 0, 0: 1, 1: 2}\n"
   ]
  },
  {
   "cell_type": "code",
   "execution_count": 10,
   "metadata": {},
   "outputs": [],
   "source": [
    "# Dividir datos en entrenamiento y validación\n",
    "n_val = 76\n",
    "X_train_init = X.iloc[:-n_val].copy()\n",
    "y_train_init = y.iloc[:-n_val].copy()\n",
    "X_val_seq = X.iloc[-n_val:].copy()\n",
    "y_val_seq = y.iloc[-n_val:].copy()\n",
    "\n",
    "# Escalar datos iniciales\n",
    "scaler = StandardScaler()\n",
    "X_train_scaled = scaler.fit_transform(X_train_init)"
   ]
  },
  {
   "cell_type": "code",
   "execution_count": 11,
   "metadata": {},
   "outputs": [],
   "source": [
    "# Función para construir el modelo\n",
    "def build_model(input_dim):\n",
    "    model = Sequential()\n",
    "    model.add(Dense(32, activation='relu', input_shape=(input_dim,)))\n",
    "    model.add(Dropout(0.2))\n",
    "    model.add(Dense(16, activation='relu'))\n",
    "    model.add(Dropout(0.2))\n",
    "    model.add(Dense(3, activation='softmax'))\n",
    "    model.compile(loss='categorical_crossentropy', optimizer='adam', metrics=['accuracy'])\n",
    "    return model\n",
    "\n",
    "y_pred_seq = []\n",
    "y_real_seq = []"
   ]
  },
  {
   "cell_type": "code",
   "execution_count": 12,
   "metadata": {},
   "outputs": [
    {
     "name": "stdout",
     "output_type": "stream",
     "text": [
      "1/1 [==============================] - 0s 94ms/step\n",
      "1/1 [==============================] - 0s 115ms/step\n",
      "1/1 [==============================] - 0s 104ms/step\n",
      "1/1 [==============================] - 0s 62ms/step\n",
      "1/1 [==============================] - 0s 78ms/step\n",
      "1/1 [==============================] - 0s 106ms/step\n",
      "1/1 [==============================] - 0s 95ms/step\n",
      "1/1 [==============================] - 0s 76ms/step\n",
      "1/1 [==============================] - 0s 78ms/step\n",
      "1/1 [==============================] - 0s 71ms/step\n",
      "1/1 [==============================] - 0s 62ms/step\n",
      "1/1 [==============================] - 0s 64ms/step\n",
      "1/1 [==============================] - 0s 69ms/step\n",
      "1/1 [==============================] - 0s 66ms/step\n",
      "1/1 [==============================] - 0s 79ms/step\n",
      "1/1 [==============================] - 0s 87ms/step\n",
      "1/1 [==============================] - 0s 69ms/step\n",
      "1/1 [==============================] - 0s 56ms/step\n",
      "1/1 [==============================] - 0s 58ms/step\n",
      "1/1 [==============================] - 0s 65ms/step\n",
      "1/1 [==============================] - 0s 59ms/step\n",
      "1/1 [==============================] - 0s 60ms/step\n",
      "1/1 [==============================] - 0s 73ms/step\n",
      "1/1 [==============================] - 0s 75ms/step\n",
      "1/1 [==============================] - 0s 59ms/step\n",
      "1/1 [==============================] - 0s 63ms/step\n",
      "1/1 [==============================] - 0s 77ms/step\n",
      "1/1 [==============================] - 0s 77ms/step\n",
      "1/1 [==============================] - 0s 86ms/step\n",
      "1/1 [==============================] - 0s 82ms/step\n",
      "1/1 [==============================] - 0s 108ms/step\n",
      "1/1 [==============================] - 0s 71ms/step\n",
      "1/1 [==============================] - 0s 80ms/step\n",
      "1/1 [==============================] - 0s 84ms/step\n",
      "1/1 [==============================] - 0s 69ms/step\n",
      "1/1 [==============================] - 0s 60ms/step\n",
      "1/1 [==============================] - 0s 59ms/step\n",
      "1/1 [==============================] - 0s 57ms/step\n",
      "1/1 [==============================] - 0s 65ms/step\n",
      "1/1 [==============================] - 0s 58ms/step\n",
      "1/1 [==============================] - 0s 61ms/step\n",
      "1/1 [==============================] - 0s 69ms/step\n",
      "1/1 [==============================] - 0s 66ms/step\n",
      "1/1 [==============================] - 0s 64ms/step\n",
      "1/1 [==============================] - 0s 63ms/step\n",
      "1/1 [==============================] - 0s 61ms/step\n",
      "1/1 [==============================] - 0s 66ms/step\n",
      "1/1 [==============================] - 0s 79ms/step\n",
      "1/1 [==============================] - 0s 67ms/step\n",
      "1/1 [==============================] - 0s 66ms/step\n",
      "1/1 [==============================] - 0s 92ms/step\n",
      "1/1 [==============================] - 0s 60ms/step\n",
      "1/1 [==============================] - 0s 69ms/step\n",
      "1/1 [==============================] - 0s 67ms/step\n",
      "1/1 [==============================] - 0s 97ms/step\n",
      "1/1 [==============================] - 0s 98ms/step\n",
      "1/1 [==============================] - 0s 84ms/step\n",
      "1/1 [==============================] - 0s 95ms/step\n",
      "1/1 [==============================] - 0s 85ms/step\n",
      "1/1 [==============================] - 0s 72ms/step\n",
      "1/1 [==============================] - 0s 74ms/step\n",
      "1/1 [==============================] - 0s 61ms/step\n",
      "1/1 [==============================] - 0s 70ms/step\n",
      "1/1 [==============================] - 0s 69ms/step\n",
      "1/1 [==============================] - 0s 89ms/step\n",
      "1/1 [==============================] - 0s 65ms/step\n",
      "1/1 [==============================] - 0s 64ms/step\n",
      "1/1 [==============================] - 0s 72ms/step\n",
      "1/1 [==============================] - 0s 64ms/step\n",
      "1/1 [==============================] - 0s 69ms/step\n",
      "1/1 [==============================] - 0s 66ms/step\n",
      "1/1 [==============================] - 0s 82ms/step\n",
      "1/1 [==============================] - 0s 65ms/step\n",
      "1/1 [==============================] - 0s 66ms/step\n",
      "1/1 [==============================] - 0s 75ms/step\n",
      "1/1 [==============================] - 0s 67ms/step\n"
     ]
    }
   ],
   "source": [
    "# Validación secuencial\n",
    "for i in range(n_val):\n",
    "    model = build_model(X_train_scaled.shape[1])\n",
    "\n",
    "    y_train_mapped = y_train_init.map(label_map)\n",
    "    y_train_cat = to_categorical(y_train_mapped, num_classes=3)\n",
    "\n",
    "    model.fit(\n",
    "        X_train_scaled, \n",
    "        y_train_cat,\n",
    "        epochs=20,        \n",
    "        batch_size=32,     \n",
    "        verbose=0\n",
    "    )\n",
    "\n",
    "    X_next = X_val_seq.iloc[i:i+1]\n",
    "    y_next = y_val_seq.iloc[i]\n",
    " \n",
    "    X_next_scaled = scaler.transform(X_next)\n",
    "    y_pred_prob = model.predict(X_next_scaled)\n",
    "    y_pred_label = np.argmax(y_pred_prob, axis=1)  # [0,1,2]\n",
    "\n",
    "    y_pred_seq.append(y_pred_label[0])\n",
    "    y_real_seq.append(label_map[y_next]) \n",
    "\n",
    "    X_train_init = pd.concat([X_train_init, X_next])\n",
    "    y_train_init = pd.concat([y_train_init, pd.Series([y_next])])\n",
    "\n",
    "    X_train_scaled = scaler.fit_transform(X_train_init)"
   ]
  },
  {
   "cell_type": "code",
   "execution_count": 13,
   "metadata": {},
   "outputs": [
    {
     "name": "stdout",
     "output_type": "stream",
     "text": [
      "Métricas:\n",
      "Accuracy: 0.5526315789473685\n",
      "Precision: 0.5413533834586466\n",
      "Recall: 0.5526315789473685\n",
      "F1: 0.5163530999444312\n"
     ]
    }
   ],
   "source": [
    "# Métricas\n",
    "accuracy = accuracy_score(y_real_seq, y_pred_seq)\n",
    "precision = precision_score(y_real_seq, y_pred_seq, average=\"weighted\", zero_division=0)\n",
    "recall = recall_score(y_real_seq, y_pred_seq, average=\"weighted\", zero_division=0)\n",
    "f1 = f1_score(y_real_seq, y_pred_seq, average=\"weighted\", zero_division=0)\n",
    "\n",
    "print(\"Métricas:\")\n",
    "print(\"Accuracy:\", accuracy)\n",
    "print(\"Precision:\", precision)\n",
    "print(\"Recall:\", recall)\n",
    "print(\"F1:\", f1)"
   ]
  },
  {
   "cell_type": "code",
   "execution_count": 14,
   "metadata": {},
   "outputs": [
    {
     "name": "stdout",
     "output_type": "stream",
     "text": [
      "\n",
      "Reporte de Clasificación:\n",
      "               precision    recall  f1-score   support\n",
      "\n",
      "Derrota (-1)       0.50      0.61      0.55        23\n",
      "  Empate (0)       0.50      0.15      0.23        20\n",
      "Victoria (1)       0.60      0.76      0.67        33\n",
      "\n",
      "    accuracy                           0.55        76\n",
      "   macro avg       0.53      0.51      0.48        76\n",
      "weighted avg       0.54      0.55      0.52        76\n",
      "\n"
     ]
    },
    {
     "data": {
      "image/png": "[encoded data removed]",
      "text/plain": [
       "<Figure size 640x480 with 2 Axes>"
      ]
     },
     "metadata": {},
     "output_type": "display_data"
    }
   ],
   "source": [
    "report = classification_report(y_real_seq, y_pred_seq, labels=[0,1,2], target_names=[\"Derrota (-1)\", \"Empate (0)\", \"Victoria (1)\"], zero_division=0)\n",
    "print(\"\\nReporte de Clasificación:\\n\", report)\n",
    "\n",
    "cm = confusion_matrix(y_real_seq, y_pred_seq, labels=[0,1,2])\n",
    "plt.imshow(cm, interpolation=\"nearest\")\n",
    "plt.colorbar()\n",
    "plt.xticks([0,1,2], [\"Derrota\", \"Empate\", \"Victoria\"])\n",
    "plt.yticks([0,1,2], [\"Derrota\", \"Empate\", \"Victoria\"])\n",
    "plt.xlabel(\"Predicción\")\n",
    "plt.ylabel(\"Realidad\")\n",
    "plt.title(\"Matriz de Confusión\")\n",
    "\n",
    "for row in range(cm.shape[0]):\n",
    "    for col in range(cm.shape[1]):\n",
    "        plt.text(col, row, cm[row, col], ha=\"center\", va=\"center\", color=\"black\")\n",
    "\n",
    "plt.show()"
   ]
  },
  {
   "cell_type": "code",
   "execution_count": 16,
   "metadata": {},
   "outputs": [
    {
     "data": {
      "text/html": [
       "<pre style=\"white-space:pre;overflow-x:auto;line-height:normal;font-family:Menlo,'DejaVu Sans Mono',consolas,'Courier New',monospace\">Initialized MLflow to track repo <span style=\"color: #008000; text-decoration-color: #008000\">\"anaigs/tfg_inso_github\"</span>\n",
       "</pre>\n"
      ],
      "text/plain": [
       "Initialized MLflow to track repo \u001b[32m\"anaigs/tfg_inso_github\"\u001b[0m\n"
      ]
     },
     "metadata": {},
     "output_type": "display_data"
    },
    {
     "data": {
      "text/html": [
       "<pre style=\"white-space:pre;overflow-x:auto;line-height:normal;font-family:Menlo,'DejaVu Sans Mono',consolas,'Courier New',monospace\">Repository anaigs/tfg_inso_github initialized!\n",
       "</pre>\n"
      ],
      "text/plain": [
       "Repository anaigs/tfg_inso_github initialized!\n"
      ]
     },
     "metadata": {},
     "output_type": "display_data"
    },
    {
     "name": "stdout",
     "output_type": "stream",
     "text": [
      "https://dagshub.com/anaigs/tfg_inso_github.mlflow\n",
      "Métricas y matriz de confusión registradas en MLflow.\n",
      "🏃 View run ath_bilbao_nn_secuencial at: https://dagshub.com/anaigs/tfg_inso_github.mlflow/#/experiments/0/runs/9111996787b6404886ba035fb6046cd5\n",
      "🧪 View experiment at: https://dagshub.com/anaigs/tfg_inso_github.mlflow/#/experiments/0\n"
     ]
    }
   ],
   "source": [
    "import mlflow\n",
    "import dagshub\n",
    "import os\n",
    "\n",
    "# Configurar MLflow con DagsHub\n",
    "USERNAME = \"anaigs\"\n",
    "TOKEN = \"6906b8ec6ea34a63bacb40b89eed8c6e9b9ff49d\"\n",
    "REPO_NAME = \"tfg_inso_github\"\n",
    "\n",
    "mlflow.set_tracking_uri(f\"https://dagshub.com/{USERNAME}/{REPO_NAME}.mlflow\")\n",
    "dagshub.init(repo_owner=USERNAME, repo_name=REPO_NAME, mlflow=True)\n",
    "\n",
    "print(mlflow.get_tracking_uri())\n",
    "\n",
    "with mlflow.start_run(run_name=\"ath_bilbao_nn_secuencial\"):\n",
    "    mlflow.log_param(\"model_type\", \"Neural Network\")\n",
    "    mlflow.log_param(\"approach\", \"NN + Sequential\")\n",
    "    mlflow.log_param(\"epochs\", 20)\n",
    "    mlflow.log_param(\"batch_size\", 32)\n",
    "    mlflow.log_param(\"test_size\", 76)\n",
    "\n",
    "    mlflow.log_metric(\"accuracy\", accuracy)\n",
    "    mlflow.log_metric(\"precision\", precision)\n",
    "    mlflow.log_metric(\"recall\", recall)\n",
    "    mlflow.log_metric(\"f1_score\", f1)\n",
    "\n",
    "    # Matriz de confusión estilo imshow\n",
    "    cm = confusion_matrix(y_real_seq, y_pred_seq, labels=[0, 1, 2])\n",
    "\n",
    "    plt.figure(figsize=(6, 5))\n",
    "    plt.imshow(cm, cmap=\"Blues\", interpolation=\"nearest\")\n",
    "    plt.colorbar()\n",
    "    plt.xticks([0, 1, 2], [\"Derrota\", \"Empate\", \"Victoria\"])\n",
    "    plt.yticks([0, 1, 2], [\"Derrota\", \"Empate\", \"Victoria\"])\n",
    "    plt.xlabel(\"Predicción\")\n",
    "    plt.ylabel(\"Realidad\")\n",
    "    plt.title(\"Matriz de Confusión (NN)\")\n",
    "\n",
    "    for row in range(cm.shape[0]):\n",
    "        for col in range(cm.shape[1]):\n",
    "            plt.text(col, row, cm[row, col], ha=\"center\", va=\"center\", color=\"black\")\n",
    "\n",
    "    # Guardar imagen\n",
    "    cm_path = \"conf_matrix_nn.png\"\n",
    "    plt.savefig(cm_path)\n",
    "    plt.close()\n",
    "\n",
    "    # Subir a MLflow\n",
    "    mlflow.log_artifact(cm_path)\n",
    "    os.remove(cm_path)\n",
    "\n",
    "    print(\"Métricas y matriz de confusión registradas en MLflow.\")\n"
   ]
  },
  {
   "cell_type": "markdown",
   "metadata": {},
   "source": [
    "#### Conclusión: Red Neuronal Secuencial para Athletic Bilbao\n",
    "\n",
    "- **Precisión global:** 55.26%, lo que indica un rendimiento moderado general en la predicción partido a partido.\n",
    "- **Predicción de derrotas:** Buen recall (0.61), aunque hay confusión con victorias.\n",
    "- **Predicción de empates:** Bajo rendimiento (recall 0.15), la clase más difícil de predecir correctamente.\n",
    "- **Predicción de victorias:** Mejor desempeño del modelo (f1-score 0.67), identifica bien este tipo de resultado.\n",
    "\n",
    "- **Próximo paso:** Probar técnicas como PCA, balanceo de clases.\n"
   ]
  },
  {
   "cell_type": "markdown",
   "metadata": {},
   "source": [
    "#### Red Neuronal con PCA y Pesos por Clase\n",
    "- **Reducción de Dimensionalidad:** Aplicación de PCA para reducir ruido y posibles redundancias.\n",
    "- **Balanceo de Clases:** Uso de pesos personalizados para compensar el desbalance entre clases.\n",
    "- **Validación Secuencial:** Predicción partido a partido simulando uso en tiempo real.\n",
    "- **Evaluación y Registro:** Métricas clave + matriz de confusión registradas en MLflow.\n"
   ]
  },
  {
   "cell_type": "code",
   "execution_count": 18,
   "metadata": {},
   "outputs": [],
   "source": [
    "import pandas as pd\n",
    "import numpy as np\n",
    "from sklearn.preprocessing import LabelEncoder, StandardScaler\n",
    "from sklearn.decomposition import PCA\n",
    "from sklearn.metrics import classification_report, accuracy_score, precision_score, recall_score, f1_score, confusion_matrix\n",
    "from tensorflow.keras.models import Sequential\n",
    "from tensorflow.keras.layers import Dense, Dropout\n",
    "from tensorflow.keras.utils import to_categorical\n",
    "from collections import Counter"
   ]
  },
  {
   "cell_type": "code",
   "execution_count": 19,
   "metadata": {},
   "outputs": [],
   "source": [
    "# Cargar datos\n",
    "df = pd.read_csv(\"../../datasets/datasets_equipos/ath_bilbao.csv\")\n",
    "df = df.drop(columns=[\"season\", \"date\", \"team\"])\n",
    "df[\"rival_team\"] = LabelEncoder().fit_transform(df[\"rival_team\"])\n",
    "\n",
    "X = df.drop(columns=[\"goals_team\", \"goals_rival\", \"result\"])\n",
    "y = df[\"result\"]\n",
    "\n",
    "# Mapear etiquetas\n",
    "label_map = {-1: 0, 0: 1, 1: 2}\n",
    "y_mapped = y.map(label_map)\n",
    "\n",
    "# Dividir en entrenamiento y validación\n",
    "n_val = 76\n",
    "X_train_init = X.iloc[:-n_val].copy()\n",
    "y_train_init = y.iloc[:-n_val].copy()\n",
    "X_val_seq = X.iloc[-n_val:].copy()\n",
    "y_val_seq = y.iloc[-n_val:].copy()\n"
   ]
  },
  {
   "cell_type": "code",
   "execution_count": 20,
   "metadata": {},
   "outputs": [],
   "source": [
    "# Escalado inicial\n",
    "scaler = StandardScaler()\n",
    "X_train_scaled = scaler.fit_transform(X_train_init)\n",
    "\n",
    "# Aplicar PCA\n",
    "pca = PCA(n_components=0.95)\n",
    "X_train_pca = pca.fit_transform(X_train_scaled)\n",
    "\n",
    "# Función para crear el modelo\n",
    "def build_model(input_dim):\n",
    "    model = Sequential()\n",
    "    model.add(Dense(32, activation='relu', input_shape=(input_dim,)))\n",
    "    model.add(Dropout(0.2))\n",
    "    model.add(Dense(16, activation='relu'))\n",
    "    model.add(Dropout(0.2))\n",
    "    model.add(Dense(3, activation='softmax'))\n",
    "    model.compile(loss='categorical_crossentropy', optimizer='adam', metrics=['accuracy'])\n",
    "    return model\n",
    "\n",
    "# Inicializar listas\n",
    "y_pred_seq = []\n",
    "y_real_seq = []"
   ]
  },
  {
   "cell_type": "markdown",
   "metadata": {},
   "source": [
    "#### ¿Qué hace `class_weight=class_weights`?\n",
    "\n",
    "- Se utiliza para **corregir el desbalance entre clases** durante el entrenamiento del modelo.\n",
    "- En problemas donde una clase aparece mucho más que otras (por ejemplo, muchas victorias y pocos empates), el modelo tiende a favorecer las clases mayoritarias.\n",
    "- `class_weight` le asigna un peso mayor a las clases minoritarias para que el modelo **les preste más atención** al calcular el error.\n",
    "- Los pesos se calculan de forma inversamente proporcional a la frecuencia de cada clase, lo que da más importancia a las clases menos representadas.\n",
    "- Esto ayuda a **mejorar la precisión en clases minoritarias**, como los empates, sin necesidad de modificar el dataset.\n"
   ]
  },
  {
   "cell_type": "code",
   "execution_count": 21,
   "metadata": {},
   "outputs": [
    {
     "name": "stdout",
     "output_type": "stream",
     "text": [
      "1/1 [==============================] - 0s 225ms/step\n",
      "1/1 [==============================] - 0s 101ms/step\n",
      "1/1 [==============================] - 0s 178ms/step\n",
      "1/1 [==============================] - 0s 144ms/step\n",
      "1/1 [==============================] - 0s 120ms/step\n",
      "1/1 [==============================] - 0s 156ms/step\n",
      "1/1 [==============================] - 0s 89ms/step\n",
      "1/1 [==============================] - 0s 163ms/step\n",
      "1/1 [==============================] - 0s 106ms/step\n",
      "1/1 [==============================] - 0s 88ms/step\n",
      "1/1 [==============================] - 0s 65ms/step\n",
      "1/1 [==============================] - 0s 78ms/step\n",
      "1/1 [==============================] - 0s 63ms/step\n",
      "1/1 [==============================] - 0s 67ms/step\n",
      "1/1 [==============================] - 0s 78ms/step\n",
      "1/1 [==============================] - 0s 73ms/step\n",
      "1/1 [==============================] - 0s 63ms/step\n",
      "1/1 [==============================] - 0s 106ms/step\n",
      "1/1 [==============================] - 0s 82ms/step\n",
      "1/1 [==============================] - 0s 91ms/step\n",
      "1/1 [==============================] - 0s 62ms/step\n",
      "1/1 [==============================] - 0s 99ms/step\n",
      "1/1 [==============================] - 0s 86ms/step\n",
      "1/1 [==============================] - 0s 66ms/step\n",
      "1/1 [==============================] - 0s 96ms/step\n",
      "1/1 [==============================] - 0s 78ms/step\n",
      "1/1 [==============================] - 0s 105ms/step\n",
      "1/1 [==============================] - 0s 91ms/step\n",
      "1/1 [==============================] - 0s 73ms/step\n",
      "1/1 [==============================] - 0s 111ms/step\n",
      "1/1 [==============================] - 0s 91ms/step\n",
      "1/1 [==============================] - 0s 92ms/step\n",
      "1/1 [==============================] - 0s 131ms/step\n",
      "1/1 [==============================] - 0s 84ms/step\n",
      "1/1 [==============================] - 0s 88ms/step\n",
      "1/1 [==============================] - 0s 121ms/step\n",
      "1/1 [==============================] - 0s 92ms/step\n",
      "1/1 [==============================] - 0s 90ms/step\n",
      "1/1 [==============================] - 0s 82ms/step\n",
      "1/1 [==============================] - 0s 83ms/step\n",
      "1/1 [==============================] - 0s 105ms/step\n",
      "1/1 [==============================] - 0s 85ms/step\n",
      "1/1 [==============================] - 0s 87ms/step\n",
      "1/1 [==============================] - 0s 139ms/step\n",
      "1/1 [==============================] - 0s 113ms/step\n",
      "1/1 [==============================] - 0s 122ms/step\n",
      "1/1 [==============================] - 0s 161ms/step\n",
      "1/1 [==============================] - 0s 131ms/step\n",
      "1/1 [==============================] - 0s 97ms/step\n",
      "1/1 [==============================] - 0s 131ms/step\n",
      "1/1 [==============================] - 0s 122ms/step\n",
      "1/1 [==============================] - 0s 137ms/step\n",
      "1/1 [==============================] - 0s 109ms/step\n",
      "1/1 [==============================] - 0s 96ms/step\n",
      "1/1 [==============================] - 0s 115ms/step\n",
      "1/1 [==============================] - 0s 100ms/step\n",
      "1/1 [==============================] - 0s 151ms/step\n",
      "1/1 [==============================] - 0s 109ms/step\n",
      "1/1 [==============================] - 0s 103ms/step\n",
      "1/1 [==============================] - 0s 113ms/step\n",
      "1/1 [==============================] - 0s 140ms/step\n",
      "1/1 [==============================] - 0s 109ms/step\n",
      "1/1 [==============================] - 0s 106ms/step\n",
      "1/1 [==============================] - 0s 140ms/step\n",
      "1/1 [==============================] - 0s 144ms/step\n",
      "1/1 [==============================] - 0s 91ms/step\n",
      "1/1 [==============================] - 0s 88ms/step\n",
      "1/1 [==============================] - 0s 89ms/step\n",
      "1/1 [==============================] - 0s 231ms/step\n",
      "1/1 [==============================] - 0s 67ms/step\n",
      "1/1 [==============================] - 0s 90ms/step\n",
      "1/1 [==============================] - 0s 177ms/step\n",
      "1/1 [==============================] - 0s 360ms/step\n",
      "1/1 [==============================] - 0s 159ms/step\n",
      "1/1 [==============================] - 1s 1s/step\n",
      "1/1 [==============================] - 0s 127ms/step\n"
     ]
    }
   ],
   "source": [
    "# Validación secuencial con PCA\n",
    "for i in range(n_val):\n",
    "    model = build_model(X_train_pca.shape[1])\n",
    "\n",
    "    y_train_mapped = y_train_init.map(label_map)\n",
    "    y_train_cat = to_categorical(y_train_mapped, num_classes=3)\n",
    "\n",
    "    class_counts = Counter(y_train_mapped)\n",
    "    total = sum(class_counts.values())\n",
    "    class_weights = {i: total / (len(class_counts) * class_counts[i]) for i in class_counts}\n",
    "\n",
    "    model.fit(X_train_pca, y_train_cat, epochs=20, batch_size=32, verbose=0, class_weight=class_weights)\n",
    "\n",
    "    X_next = X_val_seq.iloc[i:i+1]\n",
    "    y_next = y_val_seq.iloc[i]\n",
    "    y_real_seq.append(label_map[y_next])\n",
    "\n",
    "    X_next_scaled = scaler.transform(X_next)\n",
    "    X_next_pca = pca.transform(X_next_scaled)\n",
    "\n",
    "    pred_prob = model.predict(X_next_pca)\n",
    "    pred_label = np.argmax(pred_prob, axis=1)[0]\n",
    "    y_pred_seq.append(pred_label)\n",
    "\n",
    "    X_train_init = pd.concat([X_train_init, X_next])\n",
    "    y_train_init = pd.concat([y_train_init, pd.Series([y_next])])\n",
    "\n",
    "    X_train_scaled = scaler.fit_transform(X_train_init)\n",
    "    X_train_pca = pca.fit_transform(X_train_scaled)"
   ]
  },
  {
   "cell_type": "code",
   "execution_count": 22,
   "metadata": {},
   "outputs": [
    {
     "name": "stdout",
     "output_type": "stream",
     "text": [
      "Accuracy: 0.4605263157894737\n",
      "Precision: 0.4737338028069231\n",
      "Recall: 0.4605263157894737\n",
      "F1: 0.4652678642110309\n",
      "\n",
      "Reporte de Clasificación:\n",
      "               precision    recall  f1-score   support\n",
      "\n",
      "Derrota (-1)       0.58      0.48      0.52        23\n",
      "  Empate (0)       0.26      0.30      0.28        20\n",
      "Victoria (1)       0.53      0.55      0.54        33\n",
      "\n",
      "    accuracy                           0.46        76\n",
      "   macro avg       0.46      0.44      0.45        76\n",
      "weighted avg       0.47      0.46      0.47        76\n",
      "\n"
     ]
    }
   ],
   "source": [
    "# Métricas\n",
    "accuracy = accuracy_score(y_real_seq, y_pred_seq)\n",
    "precision = precision_score(y_real_seq, y_pred_seq, average=\"weighted\", zero_division=0)\n",
    "recall = recall_score(y_real_seq, y_pred_seq, average=\"weighted\", zero_division=0)\n",
    "f1 = f1_score(y_real_seq, y_pred_seq, average=\"weighted\", zero_division=0)\n",
    "\n",
    "print(\"Accuracy:\", accuracy)\n",
    "print(\"Precision:\", precision)\n",
    "print(\"Recall:\", recall)\n",
    "print(\"F1:\", f1)\n",
    "\n",
    "report = classification_report(y_real_seq, y_pred_seq, labels=[0,1,2], target_names=[\"Derrota (-1)\", \"Empate (0)\", \"Victoria (1)\"], zero_division=0)\n",
    "print(\"\\nReporte de Clasificación:\\n\", report)"
   ]
  },
  {
   "cell_type": "code",
   "execution_count": 24,
   "metadata": {},
   "outputs": [
    {
     "data": {
      "image/png": "[encoded data removed]",
      "text/plain": [
       "<Figure size 640x480 with 2 Axes>"
      ]
     },
     "metadata": {},
     "output_type": "display_data"
    }
   ],
   "source": [
    "cm = confusion_matrix(y_real_seq, y_pred_seq, labels=[0,1,2])\n",
    "plt.imshow(cm, cmap=\"Blues\", interpolation=\"nearest\")\n",
    "plt.colorbar()\n",
    "plt.xticks([0, 1, 2], [\"Derrota\", \"Empate\", \"Victoria\"])\n",
    "plt.yticks([0, 1, 2], [\"Derrota\", \"Empate\", \"Victoria\"])\n",
    "plt.xlabel(\"Predicción\")\n",
    "plt.ylabel(\"Realidad\")\n",
    "plt.title(\"Matriz de Confusión (PCA + Class Weights)\")\n",
    "\n",
    "for row in range(cm.shape[0]):\n",
    "    for col in range(cm.shape[1]):\n",
    "        plt.text(col, row, cm[row, col], ha=\"center\", va=\"center\", color=\"black\")\n",
    "\n",
    "plt.tight_layout()\n",
    "plt.show()\n",
    "plt.savefig(\"conf_matrix_pca_weights.png\")\n",
    "plt.close()"
   ]
  },
  {
   "cell_type": "markdown",
   "metadata": {},
   "source": [
    "### Conclusión: Red Neuronal con PCA y Pesos por Clase\n",
    "\n",
    "- **Precisión global:** 46.05%, inferior al modelo anterior pero con mejor equilibrio entre clases.\n",
    "- **Predicción de derrotas:** Ligero descenso en recall (0.48) pero mejora en precisión.\n",
    "- **Predicción de empates:** Se observa un progreso (recall sube a 0.30), aunque sigue siendo la clase más difícil.\n",
    "- **Predicción de victorias:** Estable respecto al modelo anterior.\n",
    "\n",
    "- **Próximo paso:** Aplicar Optuna para optimizar hiperparámetros del modelo y mejorar el balance entre precisión y recall."
   ]
  },
  {
   "cell_type": "code",
   "execution_count": null,
   "metadata": {},
   "outputs": [],
   "source": []
  }
 ],
 "metadata": {
  "kernelspec": {
   "display_name": "Python 3",
   "language": "python",
   "name": "python3"
  },
  "language_info": {
   "codemirror_mode": {
    "name": "ipython",
    "version": 3
   },
   "file_extension": ".py",
   "mimetype": "text/x-python",
   "name": "python",
   "nbconvert_exporter": "python",
   "pygments_lexer": "ipython3",
   "version": "3.10.7"
  }
 },
 "nbformat": 4,
 "nbformat_minor": 2
}
